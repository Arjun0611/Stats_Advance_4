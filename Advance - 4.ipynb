{
 "cells": [
  {
   "cell_type": "code",
   "execution_count": 2,
   "id": "8b80cb08-9cf7-4b53-9e61-b875f32bbe5f",
   "metadata": {},
   "outputs": [],
   "source": [
    "#Q1.\n",
    "\n",
    "# T-Test\n",
    "\n",
    "#1. Used for small sample size (usually < 30) or when the population mean is unknown.\n",
    "#2. Assumes population follows a normal distribution or the Central Limit Theorem.\n",
    "#3. Has degrees of freedom based on sample size.\n",
    "#4. Formula uses sample mean, sample standard deviation, population mean, and sample size.\n",
    "\n",
    "# Z-Test\n",
    "\n",
    "#1. Used for large sample size (usually > 30) and when the population mean is known.\n",
    "#2. Assumes population follows a normal distribution.\n",
    "#3. Does not have degrees of freedom, relies on standard normal distribution.\n",
    "#4. Formula uses sample mean, population standard deviation, population mean, and sample size.\n",
    "\n",
    "# Example Scenarios:\n",
    "\n",
    "#T-Test: Compare test scores of two student groups with small samples and unknown population standard deviation.\n",
    "\n",
    "#Z-Test: Compare heights of male and female populations with large samples and known population standard deviations."
   ]
  },
  {
   "cell_type": "code",
   "execution_count": 3,
   "id": "2b33f29a-0562-4c5c-977b-8152249c071b",
   "metadata": {},
   "outputs": [],
   "source": [
    "#Q2.\n",
    "\n",
    "#One-Tailed Test:\n",
    "\n",
    "#1. Focuses on a specific direction of change. (e.g. greater or lesser than).\n",
    "#2. Used when you are interested in detecting an effect in only one direction.\n",
    "#3. Critical region for significance is located in one tail of the distribution curve.\n",
    "#4. Examples: Testing if a new drug increases performance (one-tailed greater-than test) or decreases errors (one-tailed less-than test).\n",
    "\n",
    "#Two-Tailed Test:\n",
    "\n",
    "#1. Considers both direction of change. (e.g. not equal to).\n",
    "#2. Used when you are interested in detecting an effect regardless of whether it is in the positive or negative direction.\n",
    "#3. Critical region for significance is split into both tails.\n",
    "#4. Examples: Testing if a coin is biased or if a new treatment has an impact."
   ]
  },
  {
   "cell_type": "code",
   "execution_count": 4,
   "id": "c0ab6796-3788-476f-ac18-daff63d3d56b",
   "metadata": {},
   "outputs": [],
   "source": [
    "#Q3.\n",
    "\n",
    "# Type 1 Error (False Positive):\n",
    "# Occurs when we reject the null hypothesis when in reality it is true.\n",
    "#E.g. Concluding a person is guilty (rejecting the null) when they are innocent (null is true) in a criminal trial.\n",
    "\n",
    "# Type 2 Error (False Negative):\n",
    "# Occurs when we retain the null hypothesis when in reality it is false.\n",
    "# Example: Failing to diagnose a disease (not rejecting the null) when a patient is actually sick (null is false)."
   ]
  },
  {
   "cell_type": "code",
   "execution_count": 5,
   "id": "f7d7c742-98e0-401c-802a-c226fd9635a7",
   "metadata": {},
   "outputs": [],
   "source": [
    "# Q4.\n",
    "\n",
    "#Bayes's Theorem:\n",
    "\n",
    "# It is a mathematical formula for updating probability based on new evidence.\n",
    "# Combines prior knowledge (prior probability) and new data (likelihood) to calculate revised probabilities.\n",
    "\n",
    "# Medical Test: Suppose a rare disease affects 1% of the population (prior probability). A diagnostic test correctly identifies the disease in 95% of cases (likelihood), but it also produces false positives in 3% of healthy individuals. If test is positive, Bayes's theorem helps calculate updates probability of having the disease."
   ]
  },
  {
   "cell_type": "code",
   "execution_count": 6,
   "id": "7674a333-ab4b-4aba-a527-c19fabe4f1b3",
   "metadata": {},
   "outputs": [],
   "source": [
    "#Q5.\n",
    "\n",
    "# Confidence Interval:\n",
    "# It gives a range of values that is likely to contain the true population parameter.\n",
    "\n",
    "# Example\n",
    "# Suppose we want to estimate the average height of a population with a sample of 100 individuals. You find the sample mean to be 65 inches and the sample standard deviation (s) to be 3 inches. If you choose a 95% confidence level and find the critical value to be 1.96 from the standard normal distribution, you can calculate the confidence interval as follows:\n",
    "\n",
    "# Margin of Error = 1.96 * (3/sqrt(100))v = 0.588 inches\n",
    "# Confidence Interval  = (65 - 0.588, 65 + 0.588) = (64.412, 65.588)"
   ]
  },
  {
   "cell_type": "code",
   "execution_count": 7,
   "id": "7315dee1-9697-4f2c-829f-7a932704f6bc",
   "metadata": {},
   "outputs": [],
   "source": [
    "#Q8.\n",
    "\n",
    "# Margin of Error: It is the range within which the true population parameter is likely to fall.\n",
    "# It is typically calculated as a function of the critical value, sample standard deviation, and sample size.\n",
    "\n",
    "# Effect of sample size on MoE:\n",
    "# A larger sample size leads to a smaller margin of error.\n",
    "# Increasing the 'n' reduces the standard error, making the estimate more precise.\n",
    "# Smaller MoE indicates higher confidence in the estimate.\n",
    "\n",
    "# Example:\n",
    "# Suppose we want to estimate the average income of households in a city to within $500 with 95% confidence. We have two scenarios:\n",
    "\n",
    "# Scenario A: We collect a sample of 50 households and calculate the MoE, which turns out to be $1500.\n",
    "# Scenario B: We collect a sample of 500 households and calculate the MoE, which is $500.\n",
    "\n",
    "# In Scenario A, with a smaller sample size, the MOE is larger ($1500), meaning our estimate is less precise. In Scenario B, with a larger sample size, the MOE is smaller ($500), indicating a more precise estimate with higher confidence in its accuracy."
   ]
  },
  {
   "cell_type": "code",
   "execution_count": null,
   "id": "58cdcffe-ea4b-4eba-a651-70cfe1fee9b8",
   "metadata": {},
   "outputs": [],
   "source": []
  }
 ],
 "metadata": {
  "kernelspec": {
   "display_name": "Python 3 (ipykernel)",
   "language": "python",
   "name": "python3"
  },
  "language_info": {
   "codemirror_mode": {
    "name": "ipython",
    "version": 3
   },
   "file_extension": ".py",
   "mimetype": "text/x-python",
   "name": "python",
   "nbconvert_exporter": "python",
   "pygments_lexer": "ipython3",
   "version": "3.10.8"
  }
 },
 "nbformat": 4,
 "nbformat_minor": 5
}
